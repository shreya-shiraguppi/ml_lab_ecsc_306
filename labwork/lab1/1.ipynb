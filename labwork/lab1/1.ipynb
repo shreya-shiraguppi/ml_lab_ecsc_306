{
 "cells": [
  {
   "cell_type": "code",
   "execution_count": 1,
   "metadata": {},
   "outputs": [
    {
     "name": "stdout",
     "output_type": "stream",
     "text": [
      "1\n"
     ]
    }
   ],
   "source": [
    "import tensorflow as tf\n",
    "\n",
    "#(a-b)^2=a^2+b^2-2ab\n",
    "#let conder the values \n",
    "a=3\n",
    "b=4\n",
    "\n",
    "with tf.name_scope(\"lab_assignment\"):\n",
    "    with tf.name_scope(\"Scope_A\"):\n",
    "        w = tf.multiply(a,a)\n",
    "        x = tf.multiply(b,b) \n",
    "    with tf.name_scope(\"Scope_B\"):\n",
    "        y = tf.multiply(2,a)\n",
    "        z = tf.multiply(y,b)\n",
    "        \n",
    "with tf.name_scope(\"Scope_C\"):\n",
    "        r1 = tf.add(w,x)\n",
    "        res = tf.subtract(r1,z)\n",
    "        \n",
    "\n",
    "with tf.Session() as sess:\n",
    "    writer = tf.summary.FileWriter(\"/tmp/tboard/output_Shreya\",sess.graph)\n",
    "    print(sess.run(res))\n",
    "    writer.close()\n"
   ]
  },
  {
   "cell_type": "code",
   "execution_count": null,
   "metadata": {
    "collapsed": true
   },
   "outputs": [],
   "source": []
  },
  {
   "cell_type": "code",
   "execution_count": null,
   "metadata": {
    "collapsed": true
   },
   "outputs": [],
   "source": []
  }
 ],
 "metadata": {
  "kernelspec": {
   "display_name": "Python 3",
   "language": "python",
   "name": "python3"
  },
  "language_info": {
   "codemirror_mode": {
    "name": "ipython",
    "version": 3
   },
   "file_extension": ".py",
   "mimetype": "text/x-python",
   "name": "python",
   "nbconvert_exporter": "python",
   "pygments_lexer": "ipython3",
   "version": "3.6.1"
  }
 },
 "nbformat": 4,
 "nbformat_minor": 2
}
